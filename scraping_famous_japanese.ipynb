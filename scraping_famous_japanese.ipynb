{
 "cells": [
  {
   "cell_type": "code",
   "execution_count": 3,
   "id": "92e3a8df",
   "metadata": {
    "pycharm": {
     "name": "#%%\n"
    }
   },
   "outputs": [],
   "source": [
    "from bs4 import BeautifulSoup\n",
    "import requests\n",
    "import re\n",
    "import os\n",
    "import sys\n",
    "import time"
   ]
  },
  {
   "cell_type": "code",
   "execution_count": 4,
   "id": "b8c339e6",
   "metadata": {
    "pycharm": {
     "name": "#%%\n"
    }
   },
   "outputs": [],
   "source": [
    "base_dir = '/Users/yuki/情報科学演習3/yokoyaken/FALdetector/data/japansese_train/original/'"
   ]
  },
  {
   "cell_type": "code",
   "execution_count": 5,
   "id": "393dc92a",
   "metadata": {
    "pycharm": {
     "name": "#%%\n"
    }
   },
   "outputs": [],
   "source": [
    "a_url = 'https://hominis.media/person/?w=%E3%81%AA'"
   ]
  },
  {
   "cell_type": "code",
   "execution_count": 6,
   "id": "bc4c03d6",
   "metadata": {
    "pycharm": {
     "name": "#%%\n"
    }
   },
   "outputs": [],
   "source": [
    "response = requests.get(a_url)\n",
    "soup = BeautifulSoup(response.text)\n",
    "sections = soup.find_all('section', class_='cardSection people')\n",
    "lis = sections[0].find('ul').find_all('li')"
   ]
  },
  {
   "cell_type": "code",
   "execution_count": 7,
   "id": "8e865da5",
   "metadata": {
    "pycharm": {
     "name": "#%%\n"
    }
   },
   "outputs": [
    {
     "name": "stdout",
     "output_type": "stream",
     "text": [
      "https://pm-img.skyperfectv.co.jp/images/talent/20160121/70000/78111/G05-0046-160114.jpg\n",
      "na0.jpg\n",
      "https://pm-img.skyperfectv.co.jp/images/talent/20180121/310000/316006/W17-1198-180112.jpg\n",
      "na1.jpg\n",
      "https://pm-img.skyperfectv.co.jp/images/talent/20210821/70000/72303/M93-2287-210816.jpg\n",
      "na2.jpg\n",
      "https://pm-img.skyperfectv.co.jp/images/talent/20220421/0/1344/M04-0502-220416.jpg\n",
      "na3.jpg\n",
      "https://pm-img.skyperfectv.co.jp/images/talent/20220121/310000/316938/M16-0881-220116.jpg\n",
      "na4.jpg\n",
      "https://pm-img.skyperfectv.co.jp/images/talent/20211221/60000/65240/M93-2298-211212.jpg\n",
      "na5.jpg\n",
      "https://pm-img.skyperfectv.co.jp/images/talent/20220121/170000/179300/M11-1240-220116.jpg\n",
      "na6.jpg\n",
      "https://pm-img.skyperfectv.co.jp/images/talent/20200121/70000/76262/M94-0550-200117.jpg\n",
      "na7.jpg\n",
      "https://pm-img.skyperfectv.co.jp/images/talent/20220121/70000/70787/W93-2123-220116.jpg\n",
      "na8.jpg\n",
      "https://pm-img.skyperfectv.co.jp/images/talent/20220106/240000/245265/M22-0562-211212.jpg\n",
      "na9.jpg\n",
      "https://pm-img.skyperfectv.co.jp/images/talent/20211221/0/1223/W03-0430-211212.jpg\n",
      "na10.jpg\n",
      "https://pm-img.skyperfectv.co.jp/images/talent/20200121/70000/77413/M06-0881-200117.jpg\n",
      "na11.jpg\n",
      "https://pm-img.skyperfectv.co.jp/images/talent/20220121/250000/251303/W14-1216-220116.jpg\n",
      "na12.jpg\n",
      "https://pm-img.skyperfectv.co.jp/images/talent/20220121/0/1036/W04-0542-220116.jpg\n",
      "na13.jpg\n",
      "https://pm-img.skyperfectv.co.jp/images/talent/20210121/60000/64555/W05-0749-210116.jpg\n",
      "na14.jpg\n",
      "https://pm-img.skyperfectv.co.jp/images/talent/20220121/60000/61101/M05-0029-220116.jpg\n",
      "na15.jpg\n",
      "https://pm-img.skyperfectv.co.jp/images/talent/20210121/0/1262/M06-0344-210116.jpg\n",
      "na16.jpg\n",
      "https://pm-img.skyperfectv.co.jp/images/talent/20190421/180000/182964/M11-0079-190414.jpg\n",
      "na17.jpg\n",
      "https://pm-img.skyperfectv.co.jp/images/talent/20201021/330000/330170/W21-0141-201015.jpg\n",
      "na18.jpg\n",
      "https://pm-img.skyperfectv.co.jp/images/talent/20210121/50000/59650/M08-0697-210116.jpg\n",
      "na19.jpg\n",
      "https://pm-img.skyperfectv.co.jp/images/talent/20211121/70000/70363/M93-2393-211114.jpg\n",
      "na20.jpg\n",
      "https://pm-img.skyperfectv.co.jp/images/talent/20200121/70000/70785/W93-2095-200117.jpg\n",
      "na21.jpg\n",
      "https://pm-img.skyperfectv.co.jp/images/talent/20181021/140000/141855/W12-0402-181014.jpg\n",
      "na22.jpg\n",
      "https://pm-img.skyperfectv.co.jp/images/talent/20220421/70000/76973/M10-0723-220416.jpg\n",
      "na23.jpg\n",
      "https://pm-img.skyperfectv.co.jp/images/talent/20220221/60000/65826/M93-2400-220213.jpg\n",
      "na24.jpg\n",
      "https://pm-img.skyperfectv.co.jp/images/talent/20160521/70000/76031/W08-1439-160517.jpg\n",
      "na25.jpg\n",
      "https://pm-img.skyperfectv.co.jp/images/talent/20211221/60000/67321/M05-0519-211212.jpg\n",
      "na26.jpg\n",
      "https://pm-img.skyperfectv.co.jp/images/talent/20210821/210000/217287/W12-0293-210816.jpg\n",
      "na27.jpg\n",
      "https://pm-img.skyperfectv.co.jp/images/talent/20210921/60000/69042/M09-0410-210912.jpg\n",
      "na28.jpg\n",
      "https://pm-img.skyperfectv.co.jp/images/talent/20210921/320000/324864/M20-0126-210912.jpg\n",
      "na29.jpg\n",
      "https://pm-img.skyperfectv.co.jp/images/talent/20211221/230000/230459/W21-0992-211212.jpg\n",
      "na30.jpg\n",
      "https://pm-img.skyperfectv.co.jp/images/talent/20181121/70000/75181/M93-2336-181114.jpg\n",
      "na31.jpg\n",
      "https://pm-img.skyperfectv.co.jp/images/talent/20190121/60000/65033/M04-0032-190114.jpg\n",
      "na32.jpg\n",
      "https://pm-img.skyperfectv.co.jp/images/talent/20211221/0/1340/W06-0989-211212.jpg\n",
      "na33.jpg\n",
      "https://pm-img.skyperfectv.co.jp/images/talent/20220421/320000/328658/M21-0355-220416.jpg\n",
      "na34.jpg\n",
      "https://pm-img.skyperfectv.co.jp/images/talent/20220121/0/1109/W97-0629-220116.jpg\n",
      "na35.jpg\n",
      "https://pm-img.skyperfectv.co.jp/images/talent/20191021/170000/170311/W08-1463-191014.jpg\n",
      "na36.jpg\n",
      "https://pm-img.skyperfectv.co.jp/images/talent/20220421/250000/251657/W18-0483-220416.jpg\n",
      "na37.jpg\n",
      "https://pm-img.skyperfectv.co.jp/images/talent/20210521/230000/232913/W17-0381-210516.jpg\n",
      "na38.jpg\n",
      "https://pm-img.skyperfectv.co.jp/images/talent/20220421/290000/299948/M15-0933-220416.jpg\n",
      "na39.jpg\n",
      "https://pm-img.skyperfectv.co.jp/images/talent/20220121/240000/242950/W13-1965-220116.jpg\n",
      "na40.jpg\n",
      "https://pm-img.skyperfectv.co.jp/images/talent/20201121/190000/193392/W12-0063-201115.jpg\n",
      "na41.jpg\n",
      "https://pm-img.skyperfectv.co.jp/images/talent/20220421/0/1056/M02-0090-220416.jpg\n",
      "na42.jpg\n",
      "https://pm-img.skyperfectv.co.jp/images/talent/20220121/140000/141869/M08-1061-220116.jpg\n",
      "na43.jpg\n",
      "https://pm-img.skyperfectv.co.jp/images/talent/20220421/320000/322289/M17-0522-220416.jpg\n",
      "na44.jpg\n",
      "https://pm-img.skyperfectv.co.jp/images/talent/20220121/310000/319477/M17-0273-220116.jpg\n",
      "na45.jpg\n",
      "https://pm-img.skyperfectv.co.jp/images/talent/20210921/60000/65880/M04-0105-210912.jpg\n",
      "na46.jpg\n",
      "https://pm-img.skyperfectv.co.jp/images/talent/20201121/60000/68932/M07-0749-201115.jpg\n",
      "na47.jpg\n",
      "https://pm-img.skyperfectv.co.jp/images/talent/20220121/310000/315093/M16-0758-220116.jpg\n",
      "na48.jpg\n",
      "https://pm-img.skyperfectv.co.jp/images/talent/20200721/60000/64077/W09-1824-200716.jpg\n",
      "na49.jpg\n",
      "https://pm-img.skyperfectv.co.jp/images/talent/20141218/140000/146271/M06-0039-120417.jpg\n",
      "na50.jpg\n",
      "https://pm-img.skyperfectv.co.jp/images/talent/20211021/240000/243042/W17-0974-211017.jpg\n",
      "na51.jpg\n",
      "https://pm-img.skyperfectv.co.jp/images/talent/20220121/70000/74709/M09-2782-220116.jpg\n",
      "na52.jpg\n",
      "https://pm-img.skyperfectv.co.jp/images/talent/20220421/0/1090/W01-0420-220416.jpg\n",
      "na53.jpg\n",
      "https://pm-img.skyperfectv.co.jp/images/talent/20211121/320000/320036/W19-0091-211114.jpg\n",
      "na54.jpg\n"
     ]
    }
   ],
   "source": [
    "initial = 'na'\n",
    "for i in range(len(lis)):\n",
    "    style = lis[i].find('p').get('style')\n",
    "    image_url = style.replace(\"background-image:url('\", \"\").replace(\"');\", \"\")\n",
    "    image_response = requests.get(image_url)\n",
    "    image_ext = ext = os.path.splitext(image_url)[1]\n",
    "    file_name = initial + str(i) + image_ext\n",
    "    full_path = os.path.join(base_dir, file_name)\n",
    "    with open(full_path, 'wb') as f:\n",
    "        f.write(image_response.content)\n",
    "    print(image_url)\n",
    "    print(file_name)\n",
    "    time.sleep(5)"
   ]
  },
  {
   "cell_type": "code",
   "execution_count": 52,
   "id": "97b0e689",
   "metadata": {
    "pycharm": {
     "name": "#%%\n"
    }
   },
   "outputs": [],
   "source": []
  },
  {
   "cell_type": "code",
   "execution_count": 59,
   "id": "d89e4e42",
   "metadata": {
    "pycharm": {
     "name": "#%%\n"
    }
   },
   "outputs": [],
   "source": []
  },
  {
   "cell_type": "code",
   "execution_count": 63,
   "id": "fe9b2e9e",
   "metadata": {
    "pycharm": {
     "name": "#%%\n"
    }
   },
   "outputs": [
    {
     "data": {
      "text/plain": [
       "'/Users/yuki/情報科学演習3/yokoyaken/FALdetector/data/japansese_val/original/a75.jpg'"
      ]
     },
     "execution_count": 63,
     "metadata": {},
     "output_type": "execute_result"
    }
   ],
   "source": [
    "full_path"
   ]
  },
  {
   "cell_type": "code",
   "execution_count": null,
   "id": "92c54967",
   "metadata": {
    "pycharm": {
     "name": "#%%\n"
    }
   },
   "outputs": [],
   "source": []
  }
 ],
 "metadata": {
  "kernelspec": {
   "display_name": "Python 3 (ipykernel)",
   "language": "python",
   "name": "python3"
  },
  "language_info": {
   "codemirror_mode": {
    "name": "ipython",
    "version": 3
   },
   "file_extension": ".py",
   "mimetype": "text/x-python",
   "name": "python",
   "nbconvert_exporter": "python",
   "pygments_lexer": "ipython3",
   "version": "3.9.10"
  }
 },
 "nbformat": 4,
 "nbformat_minor": 5
}